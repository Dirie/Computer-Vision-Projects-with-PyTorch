{
 "cells": [
  {
   "cell_type": "code",
   "execution_count": null,
   "id": "1ccae2a3",
   "metadata": {},
   "outputs": [],
   "source": []
  },
  {
   "cell_type": "code",
   "execution_count": null,
   "id": "e83f1c5d",
   "metadata": {},
   "outputs": [],
   "source": [
    "!pip install swifter\n",
    "!pip install torchvision\n",
    "!pip install opencv-python\n",
    "# Importing matplotlib for plotting\n",
    "import matplotlib.pyplot as plt\n",
    "# Importing numpy for numerical operations\n",
    "import numpy as np\n",
    "# Importing pandas for preprocessing\n",
    "import pandas as pd\n",
    "# Importing joblib to dump and load embeddings df\n",
    "import joblib\n",
    "# Importing cv2 to read images\n",
    "import cv2\n",
    "# Importing cosine_similarity to find similarity between images\n",
    "from sklearn.metrics.pairwise import cosine_similarity\n",
    "# Importing flatten from pandas to flatten 2-D array\n",
    "from pandas.core.common import flatten\n",
    "# Importing the below libraries for our model building\n",
    "#import torch\n",
    "import torch\n",
    "import torch.nn as n"
   ]
  }
 ],
 "metadata": {
  "kernelspec": {
   "display_name": "Python 3 (ipykernel)",
   "language": "python",
   "name": "python3"
  },
  "language_info": {
   "codemirror_mode": {
    "name": "ipython",
    "version": 3
   },
   "file_extension": ".py",
   "mimetype": "text/x-python",
   "name": "python",
   "nbconvert_exporter": "python",
   "pygments_lexer": "ipython3",
   "version": "3.9.12"
  }
 },
 "nbformat": 4,
 "nbformat_minor": 5
}
